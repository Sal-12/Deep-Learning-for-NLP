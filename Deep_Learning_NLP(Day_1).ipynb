{
 "cells": [
  {
   "cell_type": "markdown",
   "metadata": {},
   "source": [
    "# Deep Learning for NLP\n"
   ]
  },
  {
   "cell_type": "markdown",
   "metadata": {},
   "source": [
    "## Imports/Installations required:\n",
    "1. NUMPY\n",
    "2. PANDAS\n",
    "3. SCIPY\n",
    "4. TENSORFLOW\n",
    "5. KERAS\n",
    "6. SPACY\n",
    "7. NLTK\n",
    "8. TEXTBLOB\n",
    "9. GENSIM\n",
    "10. PYTORCH"
   ]
  },
  {
   "cell_type": "markdown",
   "metadata": {},
   "source": [
    "## Numpy"
   ]
  },
  {
   "cell_type": "code",
   "execution_count": 1,
   "metadata": {},
   "outputs": [],
   "source": [
    "import numpy as np"
   ]
  },
  {
   "cell_type": "code",
   "execution_count": 2,
   "metadata": {},
   "outputs": [],
   "source": [
    "a = np.array([1,2,5,3], float)  # numpy array with float variable"
   ]
  },
  {
   "cell_type": "code",
   "execution_count": 3,
   "metadata": {},
   "outputs": [
    {
     "data": {
      "text/plain": [
       "array([1., 2., 5., 3.])"
      ]
     },
     "execution_count": 3,
     "metadata": {},
     "output_type": "execute_result"
    }
   ],
   "source": [
    "a"
   ]
  },
  {
   "cell_type": "code",
   "execution_count": 4,
   "metadata": {},
   "outputs": [
    {
     "name": "stdout",
     "output_type": "stream",
     "text": [
      "<class 'numpy.ndarray'>\n"
     ]
    }
   ],
   "source": [
    "print(type(a))  # Type of variable"
   ]
  },
  {
   "cell_type": "code",
   "execution_count": 5,
   "metadata": {},
   "outputs": [
    {
     "name": "stdout",
     "output_type": "stream",
     "text": [
      "[1. 2. 8. 3.]\n"
     ]
    }
   ],
   "source": [
    "# operations on array\n",
    "a[2] = 8  # the value in the 2 index has changed to 8\n",
    "print(a)"
   ]
  },
  {
   "cell_type": "code",
   "execution_count": 6,
   "metadata": {},
   "outputs": [],
   "source": [
    "b = np.array([[1,3,2,4],[6,7,8,5]], float) # 2d numpy array "
   ]
  },
  {
   "cell_type": "code",
   "execution_count": 7,
   "metadata": {},
   "outputs": [
    {
     "data": {
      "text/plain": [
       "7.0"
      ]
     },
     "execution_count": 7,
     "metadata": {},
     "output_type": "execute_result"
    }
   ],
   "source": [
    "b[1,1] # second element of second array"
   ]
  },
  {
   "cell_type": "code",
   "execution_count": 8,
   "metadata": {},
   "outputs": [
    {
     "data": {
      "text/plain": [
       "4.0"
      ]
     },
     "execution_count": 8,
     "metadata": {},
     "output_type": "execute_result"
    }
   ],
   "source": [
    "b[0,-1] # fetches last element of the first array"
   ]
  },
  {
   "cell_type": "code",
   "execution_count": 9,
   "metadata": {},
   "outputs": [
    {
     "name": "stdout",
     "output_type": "stream",
     "text": [
      "(4,)\n"
     ]
    }
   ],
   "source": [
    "print(a.shape) # shape of array a"
   ]
  },
  {
   "cell_type": "code",
   "execution_count": 10,
   "metadata": {},
   "outputs": [
    {
     "name": "stdout",
     "output_type": "stream",
     "text": [
      "(2, 4)\n"
     ]
    }
   ],
   "source": [
    "print(b.shape) #shape of array with its tuple "
   ]
  },
  {
   "cell_type": "code",
   "execution_count": 11,
   "metadata": {},
   "outputs": [
    {
     "data": {
      "text/plain": [
       "dtype('float64')"
      ]
     },
     "execution_count": 11,
     "metadata": {},
     "output_type": "execute_result"
    }
   ],
   "source": [
    "a.dtype  # the type of value stored"
   ]
  },
  {
   "cell_type": "code",
   "execution_count": 12,
   "metadata": {},
   "outputs": [
    {
     "data": {
      "text/plain": [
       "dtype('float64')"
      ]
     },
     "execution_count": 12,
     "metadata": {},
     "output_type": "execute_result"
    }
   ],
   "source": [
    "b.dtype"
   ]
  },
  {
   "cell_type": "code",
   "execution_count": 13,
   "metadata": {},
   "outputs": [],
   "source": [
    "c =  np.array([1,4,32,45,2])  # int variable"
   ]
  },
  {
   "cell_type": "code",
   "execution_count": 14,
   "metadata": {},
   "outputs": [
    {
     "data": {
      "text/plain": [
       "array([ 1,  4, 32, 45,  2])"
      ]
     },
     "execution_count": 14,
     "metadata": {},
     "output_type": "execute_result"
    }
   ],
   "source": [
    "c"
   ]
  },
  {
   "cell_type": "code",
   "execution_count": 15,
   "metadata": {},
   "outputs": [
    {
     "data": {
      "text/plain": [
       "numpy.ndarray"
      ]
     },
     "execution_count": 15,
     "metadata": {},
     "output_type": "execute_result"
    }
   ],
   "source": [
    "type(c)"
   ]
  },
  {
   "cell_type": "code",
   "execution_count": 16,
   "metadata": {},
   "outputs": [
    {
     "data": {
      "text/plain": [
       "dtype('int32')"
      ]
     },
     "execution_count": 16,
     "metadata": {},
     "output_type": "execute_result"
    }
   ],
   "source": [
    "c.dtype"
   ]
  },
  {
   "cell_type": "code",
   "execution_count": 17,
   "metadata": {},
   "outputs": [
    {
     "data": {
      "text/plain": [
       "(5,)"
      ]
     },
     "execution_count": 17,
     "metadata": {},
     "output_type": "execute_result"
    }
   ],
   "source": [
    "c.shape"
   ]
  },
  {
   "cell_type": "code",
   "execution_count": 18,
   "metadata": {},
   "outputs": [
    {
     "name": "stdout",
     "output_type": "stream",
     "text": [
      "4\n",
      "2\n",
      "5\n"
     ]
    }
   ],
   "source": [
    "print(len(a)) # length of a \n",
    "print(len(b)) # length of b\n",
    "print(len(c)) # length of c"
   ]
  },
  {
   "cell_type": "code",
   "execution_count": 19,
   "metadata": {},
   "outputs": [
    {
     "data": {
      "text/plain": [
       "False"
      ]
     },
     "execution_count": 19,
     "metadata": {},
     "output_type": "execute_result"
    }
   ],
   "source": [
    "# boolean\n",
    "8 in c # false since 8 is not c"
   ]
  },
  {
   "cell_type": "code",
   "execution_count": 20,
   "metadata": {},
   "outputs": [
    {
     "data": {
      "text/plain": [
       "True"
      ]
     },
     "execution_count": 20,
     "metadata": {},
     "output_type": "execute_result"
    }
   ],
   "source": [
    "32 in c # True since 32 is in c"
   ]
  },
  {
   "cell_type": "code",
   "execution_count": 21,
   "metadata": {},
   "outputs": [],
   "source": [
    "# use of reshape: tranforms element from 1D to 2D\n",
    "d = np.array(range(12), float)"
   ]
  },
  {
   "cell_type": "code",
   "execution_count": 22,
   "metadata": {},
   "outputs": [
    {
     "name": "stdout",
     "output_type": "stream",
     "text": [
      "[ 0.  1.  2.  3.  4.  5.  6.  7.  8.  9. 10. 11.]\n"
     ]
    }
   ],
   "source": [
    "print(d) # element with the range of 12"
   ]
  },
  {
   "cell_type": "code",
   "execution_count": 23,
   "metadata": {},
   "outputs": [
    {
     "name": "stdout",
     "output_type": "stream",
     "text": [
      "(12,)\n"
     ]
    }
   ],
   "source": [
    "print(d.shape)"
   ]
  },
  {
   "cell_type": "code",
   "execution_count": 24,
   "metadata": {},
   "outputs": [
    {
     "name": "stdout",
     "output_type": "stream",
     "text": [
      "----\n"
     ]
    }
   ],
   "source": [
    "print('----')"
   ]
  },
  {
   "cell_type": "code",
   "execution_count": 25,
   "metadata": {},
   "outputs": [],
   "source": [
    "d = d.reshape((2,6)) # the reshaping of d"
   ]
  },
  {
   "cell_type": "code",
   "execution_count": 26,
   "metadata": {},
   "outputs": [
    {
     "data": {
      "text/plain": [
       "array([[ 0.,  1.,  2.,  3.,  4.,  5.],\n",
       "       [ 6.,  7.,  8.,  9., 10., 11.]])"
      ]
     },
     "execution_count": 26,
     "metadata": {},
     "output_type": "execute_result"
    }
   ],
   "source": [
    "d "
   ]
  },
  {
   "cell_type": "code",
   "execution_count": 27,
   "metadata": {},
   "outputs": [
    {
     "data": {
      "text/plain": [
       "(2, 6)"
      ]
     },
     "execution_count": 27,
     "metadata": {},
     "output_type": "execute_result"
    }
   ],
   "source": [
    "d.shape"
   ]
  },
  {
   "cell_type": "code",
   "execution_count": 28,
   "metadata": {},
   "outputs": [
    {
     "name": "stdout",
     "output_type": "stream",
     "text": [
      "[[ 0.  1.  2.  3.]\n",
      " [ 4.  5.  6.  7.]\n",
      " [ 8.  9. 10. 11.]]\n"
     ]
    },
    {
     "data": {
      "text/plain": [
       "(3, 4)"
      ]
     },
     "execution_count": 28,
     "metadata": {},
     "output_type": "execute_result"
    }
   ],
   "source": [
    "d = d.reshape((3,4))\n",
    "print(d)\n",
    "d.shape"
   ]
  },
  {
   "cell_type": "code",
   "execution_count": 29,
   "metadata": {},
   "outputs": [
    {
     "name": "stdout",
     "output_type": "stream",
     "text": [
      "[[1. 1. 1. 1.]\n",
      " [1. 1. 1. 1.]\n",
      " [1. 1. 1. 1.]]\n"
     ]
    }
   ],
   "source": [
    "d.fill(1) # the whole array gets filled with 1\n",
    "print(d)"
   ]
  },
  {
   "cell_type": "code",
   "execution_count": 30,
   "metadata": {},
   "outputs": [
    {
     "data": {
      "text/plain": [
       "array([[0., 1.],\n",
       "       [2., 3.]])"
      ]
     },
     "execution_count": 30,
     "metadata": {},
     "output_type": "execute_result"
    }
   ],
   "source": [
    "e = np.array(range(4), float)\n",
    "e = e.reshape(2,2)\n",
    "e"
   ]
  },
  {
   "cell_type": "code",
   "execution_count": 31,
   "metadata": {},
   "outputs": [
    {
     "data": {
      "text/plain": [
       "array([[0., 1.],\n",
       "       [2., 3.]])"
      ]
     },
     "execution_count": 31,
     "metadata": {},
     "output_type": "execute_result"
    }
   ],
   "source": [
    "e.transpose() # creates transpose of arrays, not done in place\n",
    "e"
   ]
  },
  {
   "cell_type": "code",
   "execution_count": 32,
   "metadata": {},
   "outputs": [
    {
     "data": {
      "text/plain": [
       "array([0., 1., 2., 3.])"
      ]
     },
     "execution_count": 32,
     "metadata": {},
     "output_type": "execute_result"
    }
   ],
   "source": [
    "e.flatten() # flattens the whole array, not done in place "
   ]
  },
  {
   "cell_type": "code",
   "execution_count": 33,
   "metadata": {},
   "outputs": [
    {
     "name": "stdout",
     "output_type": "stream",
     "text": [
      "[1. 2. 3. 4. 5. 6.]\n"
     ]
    }
   ],
   "source": [
    "# Concatenation of 2 or more arrays\n",
    "p = np.array([1,2], float)\n",
    "q = np.array([3,4,5,6], float)\n",
    "r = np.concatenate((p,q))\n",
    "print(r)"
   ]
  },
  {
   "cell_type": "code",
   "execution_count": 34,
   "metadata": {},
   "outputs": [
    {
     "name": "stdout",
     "output_type": "stream",
     "text": [
      "[1. 2. 3. 4. 5. 6.]\n"
     ]
    }
   ],
   "source": [
    "print(r)"
   ]
  },
  {
   "cell_type": "code",
   "execution_count": 35,
   "metadata": {},
   "outputs": [
    {
     "name": "stdout",
     "output_type": "stream",
     "text": [
      "(6,)\n"
     ]
    }
   ],
   "source": [
    "print(r.shape)"
   ]
  },
  {
   "cell_type": "code",
   "execution_count": 36,
   "metadata": {},
   "outputs": [
    {
     "data": {
      "text/plain": [
       "(10, 1)"
      ]
     },
     "execution_count": 36,
     "metadata": {},
     "output_type": "execute_result"
    }
   ],
   "source": [
    "#newaxis : to increase the dimensonality of the array\n",
    "k = np.array([1,2,3,4,5,2,45,2,3,2], float)\n",
    "              \n",
    "k[:,np.newaxis].shape"
   ]
  },
  {
   "cell_type": "code",
   "execution_count": 37,
   "metadata": {},
   "outputs": [],
   "source": [
    "# multiplication is done element wise and not as matrix multiplicaion\n",
    "# if the size of the arrays do not match then the smaller one is repeated to perform the desired operation\n",
    "# addition, subtraction, multiplication."
   ]
  },
  {
   "cell_type": "code",
   "execution_count": 38,
   "metadata": {},
   "outputs": [
    {
     "name": "stdout",
     "output_type": "stream",
     "text": [
      "[[ 0.  7.]\n",
      " [ 2.  9.]\n",
      " [ 4. 11.]]\n"
     ]
    }
   ],
   "source": [
    "a1 = np.array([[1,2],[3,4],[5,6]], float)\n",
    "a2 = np.array([-1,5], float)\n",
    "a3 = a1+a2\n",
    "print(a3)"
   ]
  },
  {
   "cell_type": "code",
   "execution_count": 39,
   "metadata": {},
   "outputs": [
    {
     "name": "stdout",
     "output_type": "stream",
     "text": [
      "[3.75 3.  ]\n"
     ]
    }
   ],
   "source": [
    "# numpy and use of sum, prod, var, mean, sort, unique, argmax, argmin, std\n",
    "\n",
    "a4 = np.array([[0,2],[4,-1],[3,7],[8,4]], float)\n",
    "print(a4.mean(axis=0))   # Mean of elements column wise"
   ]
  },
  {
   "cell_type": "code",
   "execution_count": 40,
   "metadata": {},
   "outputs": [
    {
     "data": {
      "text/plain": [
       "array([1. , 1.5, 5. , 6. ])"
      ]
     },
     "execution_count": 40,
     "metadata": {},
     "output_type": "execute_result"
    }
   ],
   "source": [
    "a4.mean(axis=1)   # Mean of elements row wise"
   ]
  },
  {
   "cell_type": "code",
   "execution_count": 41,
   "metadata": {},
   "outputs": [
    {
     "data": {
      "text/plain": [
       "array([1.        , 0.5       , 0.125     , 0.33333333])"
      ]
     },
     "execution_count": 41,
     "metadata": {},
     "output_type": "execute_result"
    }
   ],
   "source": [
    "a5 = np.array([1,3,2], float)\n",
    "np.where(a!=0, 1/a, a)"
   ]
  },
  {
   "cell_type": "code",
   "execution_count": 42,
   "metadata": {},
   "outputs": [
    {
     "data": {
      "text/plain": [
       "array([[0.37392302, 0.9647317 , 0.21134717],\n",
       "       [0.90830714, 0.10549539, 0.59587899]])"
      ]
     },
     "execution_count": 42,
     "metadata": {},
     "output_type": "execute_result"
    }
   ],
   "source": [
    "np.random.rand(2,3)  # random elements are pulled"
   ]
  },
  {
   "cell_type": "raw",
   "metadata": {},
   "source": [
    "Numpy is useful for the handling of Matrices, Multi-dimensional arrays along with mathematical operations. Also, handles large datasets at ease."
   ]
  },
  {
   "cell_type": "markdown",
   "metadata": {},
   "source": [
    "## Pandas"
   ]
  },
  {
   "cell_type": "code",
   "execution_count": 43,
   "metadata": {},
   "outputs": [],
   "source": [
    "import pandas as pd"
   ]
  },
  {
   "cell_type": "markdown",
   "metadata": {},
   "source": [
    "Pandas is used for data analysis, preprocessing datasets. Dataframe and Series are two of its major data structures. Series is 1-dimensional indexed array, and DataFrame is a tabular Data structre with column and row-level indexes. "
   ]
  },
  {
   "cell_type": "code",
   "execution_count": 44,
   "metadata": {},
   "outputs": [],
   "source": [
    "series1 = pd.Series([2,5,7,3,6]) # Creating a series object"
   ]
  },
  {
   "cell_type": "code",
   "execution_count": 45,
   "metadata": {},
   "outputs": [
    {
     "name": "stdout",
     "output_type": "stream",
     "text": [
      "0    2\n",
      "1    5\n",
      "2    7\n",
      "3    3\n",
      "4    6\n",
      "dtype: int64\n"
     ]
    }
   ],
   "source": [
    "print(series1)  # 0 1 2 3 4 are default series "
   ]
  },
  {
   "cell_type": "code",
   "execution_count": 46,
   "metadata": {},
   "outputs": [
    {
     "name": "stdout",
     "output_type": "stream",
     "text": [
      "[2 5 7 3 6]\n"
     ]
    }
   ],
   "source": [
    "print(series1.values) # print the object series"
   ]
  },
  {
   "cell_type": "code",
   "execution_count": 47,
   "metadata": {},
   "outputs": [
    {
     "data": {
      "text/plain": [
       "RangeIndex(start=0, stop=5, step=1)"
      ]
     },
     "execution_count": 47,
     "metadata": {},
     "output_type": "execute_result"
    }
   ],
   "source": [
    "series1.index   # Defualt index of the series object"
   ]
  },
  {
   "cell_type": "code",
   "execution_count": 48,
   "metadata": {},
   "outputs": [],
   "source": [
    "series1.index = ['a', 'b', 'c', 'd', 'e'] # setting ondex of the series object"
   ]
  },
  {
   "cell_type": "code",
   "execution_count": 49,
   "metadata": {},
   "outputs": [
    {
     "data": {
      "text/plain": [
       "6"
      ]
     },
     "execution_count": 49,
     "metadata": {},
     "output_type": "execute_result"
    }
   ],
   "source": [
    "series1['e']  # gets the element of the index"
   ]
  },
  {
   "cell_type": "code",
   "execution_count": 50,
   "metadata": {},
   "outputs": [],
   "source": [
    "## Creating a dataframe using pandas\n",
    "\n",
    "class_data = {'Names':['Tom', 'Ken', 'Tak'],\n",
    "              'Age':[27,26,23],\n",
    "              'Occupation':['Musician','Voice Artist','Teacher']}\n",
    "\n",
    "class_df = pd.DataFrame(class_data, index = ['Person1', 'Person2', 'Person3'],\n",
    "                       columns = ['Names', 'Age', 'Occupation'])"
   ]
  },
  {
   "cell_type": "code",
   "execution_count": 51,
   "metadata": {},
   "outputs": [
    {
     "name": "stdout",
     "output_type": "stream",
     "text": [
      "        Names  Age    Occupation\n",
      "Person1   Tom   27      Musician\n",
      "Person2   Ken   26  Voice Artist\n",
      "Person3   Tak   23       Teacher\n"
     ]
    }
   ],
   "source": [
    "print(class_df)"
   ]
  },
  {
   "cell_type": "code",
   "execution_count": 52,
   "metadata": {},
   "outputs": [
    {
     "data": {
      "text/plain": [
       "Person1    Tom\n",
       "Person2    Ken\n",
       "Person3    Tak\n",
       "Name: Names, dtype: object"
      ]
     },
     "execution_count": 52,
     "metadata": {},
     "output_type": "execute_result"
    }
   ],
   "source": [
    "class_df.Names"
   ]
  },
  {
   "cell_type": "code",
   "execution_count": 53,
   "metadata": {},
   "outputs": [
    {
     "data": {
      "text/plain": [
       "Person1        Musician\n",
       "Person2    Voice Artist\n",
       "Person3         Teacher\n",
       "Name: Occupation, dtype: object"
      ]
     },
     "execution_count": 53,
     "metadata": {},
     "output_type": "execute_result"
    }
   ],
   "source": [
    "class_df.Occupation"
   ]
  },
  {
   "cell_type": "code",
   "execution_count": 54,
   "metadata": {},
   "outputs": [],
   "source": [
    "# Adding new entry to the DataFrame\n",
    "\n",
    "#mport numpy as np\n",
    "class_data2 = {'Names':['Meg', 'Bryce'],\n",
    "               'Age': [28,29],\n",
    "               'Occupation': ['Doctor', 'Researcher']}\n",
    "class_df2 = pd.DataFrame(class_data2,index = ['Person4', 'Person5'],\n",
    "                       columns = ['Names', 'Age', 'Occupation'])"
   ]
  },
  {
   "cell_type": "code",
   "execution_count": 55,
   "metadata": {},
   "outputs": [
    {
     "name": "stdout",
     "output_type": "stream",
     "text": [
      "         Names  Age  Occupation\n",
      "Person4    Meg   28      Doctor\n",
      "Person5  Bryce   29  Researcher\n"
     ]
    }
   ],
   "source": [
    "print(class_df2)"
   ]
  },
  {
   "cell_type": "code",
   "execution_count": 56,
   "metadata": {},
   "outputs": [],
   "source": [
    "class_df = class_df.append(class_df2) # adding new entry"
   ]
  },
  {
   "cell_type": "code",
   "execution_count": 57,
   "metadata": {},
   "outputs": [
    {
     "name": "stdout",
     "output_type": "stream",
     "text": [
      "         Names  Age    Occupation\n",
      "Person1    Tom   27      Musician\n",
      "Person2    Ken   26  Voice Artist\n",
      "Person3    Tak   23       Teacher\n",
      "Person4    Meg   28        Doctor\n",
      "Person5  Bryce   29    Researcher\n"
     ]
    }
   ],
   "source": [
    "print(class_df)"
   ]
  },
  {
   "cell_type": "code",
   "execution_count": 58,
   "metadata": {},
   "outputs": [
    {
     "data": {
      "text/html": [
       "<div>\n",
       "<style scoped>\n",
       "    .dataframe tbody tr th:only-of-type {\n",
       "        vertical-align: middle;\n",
       "    }\n",
       "\n",
       "    .dataframe tbody tr th {\n",
       "        vertical-align: top;\n",
       "    }\n",
       "\n",
       "    .dataframe thead th {\n",
       "        text-align: right;\n",
       "    }\n",
       "</style>\n",
       "<table border=\"1\" class=\"dataframe\">\n",
       "  <thead>\n",
       "    <tr style=\"text-align: right;\">\n",
       "      <th></th>\n",
       "      <th>Person1</th>\n",
       "      <th>Person2</th>\n",
       "      <th>Person3</th>\n",
       "      <th>Person4</th>\n",
       "      <th>Person5</th>\n",
       "    </tr>\n",
       "  </thead>\n",
       "  <tbody>\n",
       "    <tr>\n",
       "      <th>Names</th>\n",
       "      <td>Tom</td>\n",
       "      <td>Ken</td>\n",
       "      <td>Tak</td>\n",
       "      <td>Meg</td>\n",
       "      <td>Bryce</td>\n",
       "    </tr>\n",
       "    <tr>\n",
       "      <th>Age</th>\n",
       "      <td>27</td>\n",
       "      <td>26</td>\n",
       "      <td>23</td>\n",
       "      <td>28</td>\n",
       "      <td>29</td>\n",
       "    </tr>\n",
       "    <tr>\n",
       "      <th>Occupation</th>\n",
       "      <td>Musician</td>\n",
       "      <td>Voice Artist</td>\n",
       "      <td>Teacher</td>\n",
       "      <td>Doctor</td>\n",
       "      <td>Researcher</td>\n",
       "    </tr>\n",
       "  </tbody>\n",
       "</table>\n",
       "</div>"
      ],
      "text/plain": [
       "             Person1       Person2  Person3 Person4     Person5\n",
       "Names            Tom           Ken      Tak     Meg       Bryce\n",
       "Age               27            26       23      28          29\n",
       "Occupation  Musician  Voice Artist  Teacher  Doctor  Researcher"
      ]
     },
     "execution_count": 58,
     "metadata": {},
     "output_type": "execute_result"
    }
   ],
   "source": [
    "class_df.T # T is for transpose"
   ]
  },
  {
   "cell_type": "code",
   "execution_count": 59,
   "metadata": {},
   "outputs": [
    {
     "data": {
      "text/html": [
       "<div>\n",
       "<style scoped>\n",
       "    .dataframe tbody tr th:only-of-type {\n",
       "        vertical-align: middle;\n",
       "    }\n",
       "\n",
       "    .dataframe tbody tr th {\n",
       "        vertical-align: top;\n",
       "    }\n",
       "\n",
       "    .dataframe thead th {\n",
       "        text-align: right;\n",
       "    }\n",
       "</style>\n",
       "<table border=\"1\" class=\"dataframe\">\n",
       "  <thead>\n",
       "    <tr style=\"text-align: right;\">\n",
       "      <th></th>\n",
       "      <th>Names</th>\n",
       "      <th>Age</th>\n",
       "      <th>Occupation</th>\n",
       "    </tr>\n",
       "  </thead>\n",
       "  <tbody>\n",
       "    <tr>\n",
       "      <th>Person3</th>\n",
       "      <td>Tak</td>\n",
       "      <td>23</td>\n",
       "      <td>Teacher</td>\n",
       "    </tr>\n",
       "    <tr>\n",
       "      <th>Person2</th>\n",
       "      <td>Ken</td>\n",
       "      <td>26</td>\n",
       "      <td>Voice Artist</td>\n",
       "    </tr>\n",
       "    <tr>\n",
       "      <th>Person1</th>\n",
       "      <td>Tom</td>\n",
       "      <td>27</td>\n",
       "      <td>Musician</td>\n",
       "    </tr>\n",
       "    <tr>\n",
       "      <th>Person4</th>\n",
       "      <td>Meg</td>\n",
       "      <td>28</td>\n",
       "      <td>Doctor</td>\n",
       "    </tr>\n",
       "    <tr>\n",
       "      <th>Person5</th>\n",
       "      <td>Bryce</td>\n",
       "      <td>29</td>\n",
       "      <td>Researcher</td>\n",
       "    </tr>\n",
       "  </tbody>\n",
       "</table>\n",
       "</div>"
      ],
      "text/plain": [
       "         Names  Age    Occupation\n",
       "Person3    Tak   23       Teacher\n",
       "Person2    Ken   26  Voice Artist\n",
       "Person1    Tom   27      Musician\n",
       "Person4    Meg   28        Doctor\n",
       "Person5  Bryce   29    Researcher"
      ]
     },
     "execution_count": 59,
     "metadata": {},
     "output_type": "execute_result"
    }
   ],
   "source": [
    "class_df.sort_values(by='Age') # Sorting of rows by one column"
   ]
  },
  {
   "cell_type": "code",
   "execution_count": 60,
   "metadata": {},
   "outputs": [],
   "source": [
    "# Adding one or more column to the dataframe as series object\n",
    "column_entry = pd.Series(['Independent Artist', 'Animation Industry', 'Junior Level', 'Clinic', np.nan],\n",
    "                        index = ['Person1', 'Person2', 'Person3', 'Person4', 'Person5'])\n",
    "class_df['Position'] = column_entry"
   ]
  },
  {
   "cell_type": "code",
   "execution_count": 61,
   "metadata": {},
   "outputs": [
    {
     "name": "stdout",
     "output_type": "stream",
     "text": [
      "         Names  Age    Occupation            Position\n",
      "Person1    Tom   27      Musician  Independent Artist\n",
      "Person2    Ken   26  Voice Artist  Animation Industry\n",
      "Person3    Tak   23       Teacher        Junior Level\n",
      "Person4    Meg   28        Doctor              Clinic\n",
      "Person5  Bryce   29    Researcher                 NaN\n"
     ]
    }
   ],
   "source": [
    "print(class_df)"
   ]
  },
  {
   "cell_type": "code",
   "execution_count": 62,
   "metadata": {},
   "outputs": [],
   "source": [
    "# Filling the entries in the missing dataframe\n",
    "class_df.fillna('Phd Student', inplace = True)"
   ]
  },
  {
   "cell_type": "code",
   "execution_count": 63,
   "metadata": {},
   "outputs": [
    {
     "name": "stdout",
     "output_type": "stream",
     "text": [
      "         Names  Age    Occupation            Position\n",
      "Person1    Tom   27      Musician  Independent Artist\n",
      "Person2    Ken   26  Voice Artist  Animation Industry\n",
      "Person3    Tak   23       Teacher        Junior Level\n",
      "Person4    Meg   28        Doctor              Clinic\n",
      "Person5  Bryce   29    Researcher         Phd Student\n"
     ]
    }
   ],
   "source": [
    "print(class_df)"
   ]
  },
  {
   "cell_type": "code",
   "execution_count": 64,
   "metadata": {},
   "outputs": [],
   "source": [
    "# Concatenation of 2 dataframes\n",
    "\n",
    "Gender  = pd.DataFrame(data = {'Gender': ['Male', 'Male', 'Male', 'Female', 'Female']}, \n",
    "                       index = ['Person1', 'Person2', 'Person3', 'Person4', 'Person5'])"
   ]
  },
  {
   "cell_type": "code",
   "execution_count": 65,
   "metadata": {},
   "outputs": [
    {
     "name": "stdout",
     "output_type": "stream",
     "text": [
      "         Gender\n",
      "Person1    Male\n",
      "Person2    Male\n",
      "Person3    Male\n",
      "Person4  Female\n",
      "Person5  Female\n"
     ]
    }
   ],
   "source": [
    "print(Gender)"
   ]
  },
  {
   "cell_type": "code",
   "execution_count": 66,
   "metadata": {},
   "outputs": [],
   "source": [
    "class_data = pd.concat([class_df, Gender], axis = 1)"
   ]
  },
  {
   "cell_type": "code",
   "execution_count": 67,
   "metadata": {},
   "outputs": [
    {
     "data": {
      "text/html": [
       "<div>\n",
       "<style scoped>\n",
       "    .dataframe tbody tr th:only-of-type {\n",
       "        vertical-align: middle;\n",
       "    }\n",
       "\n",
       "    .dataframe tbody tr th {\n",
       "        vertical-align: top;\n",
       "    }\n",
       "\n",
       "    .dataframe thead th {\n",
       "        text-align: right;\n",
       "    }\n",
       "</style>\n",
       "<table border=\"1\" class=\"dataframe\">\n",
       "  <thead>\n",
       "    <tr style=\"text-align: right;\">\n",
       "      <th></th>\n",
       "      <th>Names</th>\n",
       "      <th>Age</th>\n",
       "      <th>Occupation</th>\n",
       "      <th>Position</th>\n",
       "      <th>Gender</th>\n",
       "    </tr>\n",
       "  </thead>\n",
       "  <tbody>\n",
       "    <tr>\n",
       "      <th>Person1</th>\n",
       "      <td>Tom</td>\n",
       "      <td>27</td>\n",
       "      <td>Musician</td>\n",
       "      <td>Independent Artist</td>\n",
       "      <td>Male</td>\n",
       "    </tr>\n",
       "    <tr>\n",
       "      <th>Person2</th>\n",
       "      <td>Ken</td>\n",
       "      <td>26</td>\n",
       "      <td>Voice Artist</td>\n",
       "      <td>Animation Industry</td>\n",
       "      <td>Male</td>\n",
       "    </tr>\n",
       "    <tr>\n",
       "      <th>Person3</th>\n",
       "      <td>Tak</td>\n",
       "      <td>23</td>\n",
       "      <td>Teacher</td>\n",
       "      <td>Junior Level</td>\n",
       "      <td>Male</td>\n",
       "    </tr>\n",
       "    <tr>\n",
       "      <th>Person4</th>\n",
       "      <td>Meg</td>\n",
       "      <td>28</td>\n",
       "      <td>Doctor</td>\n",
       "      <td>Clinic</td>\n",
       "      <td>Female</td>\n",
       "    </tr>\n",
       "    <tr>\n",
       "      <th>Person5</th>\n",
       "      <td>Bryce</td>\n",
       "      <td>29</td>\n",
       "      <td>Researcher</td>\n",
       "      <td>Phd Student</td>\n",
       "      <td>Female</td>\n",
       "    </tr>\n",
       "  </tbody>\n",
       "</table>\n",
       "</div>"
      ],
      "text/plain": [
       "         Names  Age    Occupation            Position  Gender\n",
       "Person1    Tom   27      Musician  Independent Artist    Male\n",
       "Person2    Ken   26  Voice Artist  Animation Industry    Male\n",
       "Person3    Tak   23       Teacher        Junior Level    Male\n",
       "Person4    Meg   28        Doctor              Clinic  Female\n",
       "Person5  Bryce   29    Researcher         Phd Student  Female"
      ]
     },
     "execution_count": 67,
     "metadata": {},
     "output_type": "execute_result"
    }
   ],
   "source": [
    "class_data"
   ]
  },
  {
   "cell_type": "code",
   "execution_count": 68,
   "metadata": {},
   "outputs": [],
   "source": [
    "class_data['Occupation'] = class_data['Occupation'].map(lambda x:x + '  Pro')"
   ]
  },
  {
   "cell_type": "code",
   "execution_count": 69,
   "metadata": {},
   "outputs": [
    {
     "data": {
      "text/plain": [
       "Person1        Musician  Pro\n",
       "Person2    Voice Artist  Pro\n",
       "Person3         Teacher  Pro\n",
       "Person4          Doctor  Pro\n",
       "Person5      Researcher  Pro\n",
       "Name: Occupation, dtype: object"
      ]
     },
     "execution_count": 69,
     "metadata": {},
     "output_type": "execute_result"
    }
   ],
   "source": [
    "class_data['Occupation']"
   ]
  },
  {
   "cell_type": "code",
   "execution_count": 70,
   "metadata": {},
   "outputs": [
    {
     "name": "stdout",
     "output_type": "stream",
     "text": [
      "----Old Values----\n",
      "Person1    27\n",
      "Person2    26\n",
      "Person3    23\n",
      "Person4    28\n",
      "Person5    29\n",
      "Name: Age, dtype: int64\n",
      "||||||||||||||||||||\n",
      "----New Values----\n",
      "Person1    28\n",
      "Person2    27\n",
      "Person3    24\n",
      "Person4    29\n",
      "Person5    30\n",
      "Name: Age, dtype: int64\n"
     ]
    }
   ],
   "source": [
    "# APPLY Function\n",
    "\n",
    "def age_add(x):   #defining a new function which will increment the age by 1\n",
    "    \n",
    "    return(x+1)\n",
    "\n",
    "\n",
    "print('----Old Values----')\n",
    "print(class_data['Age'])\n",
    "\n",
    "print('||||||||||||||||||||')\n",
    "\n",
    "print('----New Values----')\n",
    "print(class_data['Age'].apply(age_add)) # apply the age function on top of the age column"
   ]
  },
  {
   "cell_type": "code",
   "execution_count": 71,
   "metadata": {},
   "outputs": [
    {
     "data": {
      "text/plain": [
       "CategoricalDtype(categories=[23, 26, 27, 28, 29], ordered=False)"
      ]
     },
     "execution_count": 71,
     "metadata": {},
     "output_type": "execute_result"
    }
   ],
   "source": [
    "# Changing datatype of the column\n",
    "\n",
    "class_data['Age'] = class_data['Age'].astype('category')\n",
    "class_data.Age.dtypes"
   ]
  },
  {
   "cell_type": "code",
   "execution_count": 72,
   "metadata": {},
   "outputs": [],
   "source": [
    "# Storing the results\n",
    "class_data.to_csv('class_dataset.csv', index=False)"
   ]
  },
  {
   "cell_type": "code",
   "execution_count": 73,
   "metadata": {},
   "outputs": [
    {
     "data": {
      "text/plain": [
       "<bound method NDFrame.to_csv of          Names Age         Occupation            Position  Gender\n",
       "Person1    Tom  27      Musician  Pro  Independent Artist    Male\n",
       "Person2    Ken  26  Voice Artist  Pro  Animation Industry    Male\n",
       "Person3    Tak  23       Teacher  Pro        Junior Level    Male\n",
       "Person4    Meg  28        Doctor  Pro              Clinic  Female\n",
       "Person5  Bryce  29    Researcher  Pro         Phd Student  Female>"
      ]
     },
     "execution_count": 73,
     "metadata": {},
     "output_type": "execute_result"
    }
   ],
   "source": [
    "class_data.to_csv"
   ]
  },
  {
   "cell_type": "markdown",
   "metadata": {},
   "source": [
    "## SciPy"
   ]
  },
  {
   "cell_type": "raw",
   "metadata": {},
   "source": [
    "Small packages with each package targeting individual scientific computing domains, Deals with high level commands, variety of classes to manipulate and visualise data, complex algorithms, and their uses in Numpy."
   ]
  },
  {
   "cell_type": "code",
   "execution_count": 74,
   "metadata": {},
   "outputs": [],
   "source": [
    "import scipy"
   ]
  },
  {
   "cell_type": "code",
   "execution_count": 75,
   "metadata": {},
   "outputs": [],
   "source": [
    "from scipy import linalg"
   ]
  },
  {
   "cell_type": "code",
   "execution_count": 76,
   "metadata": {},
   "outputs": [
    {
     "name": "stdout",
     "output_type": "stream",
     "text": [
      "[[6 3 1]\n",
      " [3 8 2]\n",
      " [5 2 9]]\n"
     ]
    }
   ],
   "source": [
    "matrix = np.array([[6,3,1], [3,8,2], [5,2,9]]) # matrix creation\n",
    "print(matrix)"
   ]
  },
  {
   "cell_type": "code",
   "execution_count": 77,
   "metadata": {},
   "outputs": [
    {
     "data": {
      "text/plain": [
       "322.99999999999994"
      ]
     },
     "execution_count": 77,
     "metadata": {},
     "output_type": "execute_result"
    }
   ],
   "source": [
    "linalg.det(matrix) # determinant of the above matrix"
   ]
  },
  {
   "cell_type": "code",
   "execution_count": 78,
   "metadata": {},
   "outputs": [
    {
     "data": {
      "text/plain": [
       "array([[ 0.21052632, -0.07739938, -0.00619195],\n",
       "       [-0.05263158,  0.15170279, -0.02786378],\n",
       "       [-0.10526316,  0.00928793,  0.12074303]])"
      ]
     },
     "execution_count": 78,
     "metadata": {},
     "output_type": "execute_result"
    }
   ],
   "source": [
    "linalg.inv(matrix)  # inverse of the above matrix"
   ]
  },
  {
   "cell_type": "code",
   "execution_count": 79,
   "metadata": {},
   "outputs": [
    {
     "name": "stdout",
     "output_type": "stream",
     "text": [
      "[[1 2]\n",
      " [4 5]]\n"
     ]
    }
   ],
   "source": [
    "matrix1 = np.array([[1,2],[4,5]])\n",
    "print(matrix1)"
   ]
  },
  {
   "cell_type": "code",
   "execution_count": 80,
   "metadata": {},
   "outputs": [
    {
     "data": {
      "text/plain": [
       "-3.0"
      ]
     },
     "execution_count": 80,
     "metadata": {},
     "output_type": "execute_result"
    }
   ],
   "source": [
    "linalg.det(matrix1)"
   ]
  },
  {
   "cell_type": "code",
   "execution_count": 81,
   "metadata": {},
   "outputs": [
    {
     "name": "stdout",
     "output_type": "stream",
     "text": [
      "[[-1.66666667  0.66666667]\n",
      " [ 1.33333333 -0.33333333]]\n"
     ]
    }
   ],
   "source": [
    "inverse_matrix1 = linalg.inv(matrix1)  # inverse of a matrix\n",
    "print(inverse_matrix1)"
   ]
  },
  {
   "cell_type": "code",
   "execution_count": 82,
   "metadata": {},
   "outputs": [
    {
     "data": {
      "text/plain": [
       "array([[-0.59103119, -0.53865849, -0.6004408 ],\n",
       "       [-0.02091116, -0.73388316,  0.67895377],\n",
       "       [-0.80637761,  0.41383877,  0.42248387]])"
      ]
     },
     "execution_count": 82,
     "metadata": {},
     "output_type": "execute_result"
    }
   ],
   "source": [
    "# SVD = singular value decomposition\n",
    "\n",
    "comp_1, comp_2, comp_3 = linalg.svd(matrix)\n",
    "comp_1\n",
    "comp_2\n",
    "comp_3"
   ]
  },
  {
   "cell_type": "code",
   "execution_count": 83,
   "metadata": {},
   "outputs": [
    {
     "data": {
      "text/plain": [
       "(array([[-0.32453643, -0.9458732 ],\n",
       "        [-0.9458732 ,  0.32453643]]),\n",
       " array([6.76782894, 0.44327362]),\n",
       " array([[-0.60699365, -0.79470668],\n",
       "        [ 0.79470668, -0.60699365]]))"
      ]
     },
     "execution_count": 83,
     "metadata": {},
     "output_type": "execute_result"
    }
   ],
   "source": [
    "linalg.svd(matrix1)"
   ]
  },
  {
   "cell_type": "code",
   "execution_count": 84,
   "metadata": {},
   "outputs": [],
   "source": [
    "# Scipy stats package is huge , consists of statistical dist, functions, for operation on different kind of datasets.\n",
    "# Scipy Stats module\n",
    "from scipy import stats"
   ]
  },
  {
   "cell_type": "code",
   "execution_count": 85,
   "metadata": {},
   "outputs": [
    {
     "name": "stdout",
     "output_type": "stream",
     "text": [
      "[ 0.0682866   7.06367621 -5.00860282 -3.8005583   3.07589963 -2.32056789\n",
      "  5.94880771  6.71785044 -1.39387827  5.31387995  5.44932903  5.99110922\n",
      "  4.42294243 -1.89317108 -4.7826805   5.35167207  0.38567439  2.47045403\n",
      "  5.52847115  1.02660659] \n",
      " ---\n"
     ]
    }
   ],
   "source": [
    "# Generating a random sample of size 20 from normal dist with mean 3 and std 5\n",
    "\n",
    "rvs_20 = stats.norm.rvs(3,5, size = 20)   # pattern is mean, std, sample size\n",
    "print(rvs_20, '\\n ---')"
   ]
  },
  {
   "cell_type": "code",
   "execution_count": 86,
   "metadata": {},
   "outputs": [
    {
     "data": {
      "text/plain": [
       "array([  0.06604181,  10.32841501,  -0.52811056,  -6.86978651,\n",
       "         3.32831194,   8.37539579,   9.2966105 ,  -1.74852638,\n",
       "        14.50316936,  -6.02387686,   9.08367715,  -1.64207928,\n",
       "         6.35250721,   4.85309784,   8.57725527,   7.36172024,\n",
       "        -1.86157444,  -6.92529063,  -8.07750395,   7.60934104,\n",
       "        -7.11340744,  -5.1441391 ,   5.41729455,   7.31540269,\n",
       "        12.0440387 ,   3.62077434,  10.8545088 ,   8.52791829,\n",
       "         7.93452144,   5.29453426,  -0.13504294,  -2.74796887,\n",
       "        -8.73516956,  -4.84435989,   2.61159787,  -1.77217451,\n",
       "         5.96296344,   5.34968657,   6.25462202,  10.81259643,\n",
       "         4.42594395,  -1.36830633,  -6.84984688, -10.41424101,\n",
       "        17.30540098,  11.73767122,   5.55668468,   5.64439053,\n",
       "         9.04346329,  -4.89423015])"
      ]
     },
     "execution_count": 86,
     "metadata": {},
     "output_type": "execute_result"
    }
   ],
   "source": [
    "rvs1 = stats.norm.rvs(4,7, size = 50)\n",
    "rvs1"
   ]
  },
  {
   "cell_type": "code",
   "execution_count": 87,
   "metadata": {},
   "outputs": [
    {
     "name": "stdout",
     "output_type": "stream",
     "text": [
      "0.22500957436155394\n"
     ]
    }
   ],
   "source": [
    "# Computing CDF of Beta dist with a = 100, b = 130, as shape parameters at random variables 0.41\n",
    "\n",
    "cdf1 = scipy.stats.beta.cdf(0.41,a=100,b = 130)\n",
    "print(cdf1)"
   ]
  },
  {
   "cell_type": "code",
   "execution_count": 88,
   "metadata": {},
   "outputs": [
    {
     "name": "stdout",
     "output_type": "stream",
     "text": [
      "0.9795149123289616\n"
     ]
    }
   ],
   "source": [
    "cdf2 = scipy.stats.beta.cdf(0.4,a=10,b = 30)\n",
    "print(cdf2)"
   ]
  },
  {
   "cell_type": "code",
   "execution_count": 89,
   "metadata": {},
   "outputs": [],
   "source": [
    "# Scipy is a bit complex to handle and needs a bit more learning time.\n",
    "\n",
    "# PLease to the Deep Learning For NLP by Palash Goyal, Sumit Pandey, Karan Jain."
   ]
  }
 ],
 "metadata": {
  "kernelspec": {
   "display_name": "Python 3",
   "language": "python",
   "name": "python3"
  },
  "language_info": {
   "codemirror_mode": {
    "name": "ipython",
    "version": 3
   },
   "file_extension": ".py",
   "mimetype": "text/x-python",
   "name": "python",
   "nbconvert_exporter": "python",
   "pygments_lexer": "ipython3",
   "version": "3.7.4"
  }
 },
 "nbformat": 4,
 "nbformat_minor": 4
}
